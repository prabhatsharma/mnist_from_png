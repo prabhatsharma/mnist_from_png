{
 "cells": [
  {
   "cell_type": "markdown",
   "metadata": {},
   "source": [
    "# mnist using png images from scratch\n",
    "mnist data set contains 0-9 handwritten iages of 28x28 pixels\n",
    "Goal of the exercise to do handwriing recognition of these images."
   ]
  },
  {
   "cell_type": "code",
   "execution_count": 106,
   "metadata": {},
   "outputs": [],
   "source": [
    "from keras.models import Sequential\n",
    "from keras.layers import Dense, Conv2D, Activation, MaxPooling2D, Flatten, Dropout\n",
    "from keras.preprocessing.image import ImageDataGenerator\n",
    "from keras import backend as K\n",
    "import matplotlib.pyplot as plt"
   ]
  },
  {
   "cell_type": "code",
   "execution_count": 159,
   "metadata": {},
   "outputs": [],
   "source": [
    "training_path = './mnist_png/training'\n",
    "testing_path = './mnist_png/testing'\n",
    "img_width, img_height = 28, 28\n",
    "nb_train_samples = 60000\n",
    "nb_validation_samples = 10000\n",
    "epochs = 5\n",
    "batch_size = 128 # change this to 16 to speed up processing by 7 times"
   ]
  },
  {
   "cell_type": "code",
   "execution_count": 160,
   "metadata": {},
   "outputs": [
    {
     "data": {
      "image/png": "[encoded data removed]",
      "text/plain": [
       "<IPython.core.display.Image object>"
      ]
     },
     "metadata": {
      "image/png": {
       "width": 100
      }
     },
     "output_type": "display_data"
    },
    {
     "data": {
      "image/png": "[encoded data removed]",
      "text/plain": [
       "<IPython.core.display.Image object>"
      ]
     },
     "metadata": {
      "image/png": {
       "width": 100
      }
     },
     "output_type": "display_data"
    },
    {
     "data": {
      "image/png": "[encoded data removed]",
      "text/plain": [
       "<IPython.core.display.Image object>"
      ]
     },
     "metadata": {
      "image/png": {
       "width": 100
      }
     },
     "output_type": "display_data"
    },
    {
     "data": {
      "image/png": "[encoded data removed]",
      "text/plain": [
       "<IPython.core.display.Image object>"
      ]
     },
     "metadata": {
      "image/png": {
       "width": 100
      }
     },
     "output_type": "display_data"
    },
    {
     "data": {
      "image/png": "[encoded data removed]",
      "text/plain": [
       "<IPython.core.display.Image object>"
      ]
     },
     "metadata": {
      "image/png": {
       "width": 100
      }
     },
     "output_type": "display_data"
    }
   ],
   "source": [
    "import os\n",
    "from IPython.display import display, Image\n",
    "names = [f for f in os.listdir(training_path + '/1') if f.endswith('.png')]\n",
    "for name in names[:5]:\n",
    "    display(Image(training_path + '/1/' + name, width=100))"
   ]
  },
  {
   "cell_type": "code",
   "execution_count": 161,
   "metadata": {},
   "outputs": [],
   "source": [
    "input_shape = (img_width, img_height, 1) # 1=grayscale, 3=color image = RGB."
   ]
  },
  {
   "cell_type": "code",
   "execution_count": 162,
   "metadata": {},
   "outputs": [],
   "source": [
    "model = Sequential()\n",
    "model.add(Conv2D(32, (3, 3), activation='relu', input_shape=input_shape))\n",
    "model.add(MaxPooling2D((2, 2)))\n",
    "model.add(Conv2D(64, (3, 3), activation='relu'))\n",
    "model.add(MaxPooling2D((2, 2)))\n",
    "model.add(Conv2D(64, (3, 3), activation='relu'))\n",
    "\n",
    "model.add(Flatten())\n",
    "model.add(Dense(64, activation='relu'))\n",
    "model.add(Dense(10, activation='softmax'))"
   ]
  },
  {
   "cell_type": "code",
   "execution_count": 163,
   "metadata": {},
   "outputs": [
    {
     "name": "stdout",
     "output_type": "stream",
     "text": [
      "_________________________________________________________________\n",
      "Layer (type)                 Output Shape              Param #   \n",
      "=================================================================\n",
      "conv2d_46 (Conv2D)           (None, 26, 26, 32)        320       \n",
      "_________________________________________________________________\n",
      "max_pooling2d_37 (MaxPooling (None, 13, 13, 32)        0         \n",
      "_________________________________________________________________\n",
      "conv2d_47 (Conv2D)           (None, 11, 11, 64)        18496     \n",
      "_________________________________________________________________\n",
      "max_pooling2d_38 (MaxPooling (None, 5, 5, 64)          0         \n",
      "_________________________________________________________________\n",
      "conv2d_48 (Conv2D)           (None, 3, 3, 64)          36928     \n",
      "_________________________________________________________________\n",
      "flatten_15 (Flatten)         (None, 576)               0         \n",
      "_________________________________________________________________\n",
      "dense_38 (Dense)             (None, 64)                36928     \n",
      "_________________________________________________________________\n",
      "dense_39 (Dense)             (None, 10)                650       \n",
      "=================================================================\n",
      "Total params: 93,322\n",
      "Trainable params: 93,322\n",
      "Non-trainable params: 0\n",
      "_________________________________________________________________\n"
     ]
    }
   ],
   "source": [
    "model.summary()"
   ]
  },
  {
   "cell_type": "code",
   "execution_count": 165,
   "metadata": {},
   "outputs": [],
   "source": [
    "model.compile(loss='categorical_crossentropy',\n",
    "              optimizer='rmsprop',\n",
    "              metrics=['accuracy'])"
   ]
  },
  {
   "cell_type": "code",
   "execution_count": 166,
   "metadata": {},
   "outputs": [
    {
     "name": "stdout",
     "output_type": "stream",
     "text": [
      "Found 60000 images belonging to 10 classes.\n",
      "Found 10000 images belonging to 10 classes.\n"
     ]
    }
   ],
   "source": [
    "data_gen = ImageDataGenerator(rescale=1. / 255)\n",
    "# data_gen = ImageDataGenerator()\n",
    "train_batch = data_gen.flow_from_directory(training_path, target_size=(28,28),\n",
    "                                          batch_size=batch_size, color_mode='grayscale',)\n",
    "test_batch = data_gen.flow_from_directory(testing_path, target_size=(28,28),\n",
    "                                         batch_size=batch_size, color_mode='grayscale',)"
   ]
  },
  {
   "cell_type": "code",
   "execution_count": 167,
   "metadata": {},
   "outputs": [
    {
     "name": "stdout",
     "output_type": "stream",
     "text": [
      "Epoch 1/5\n",
      "60000/60000 [==============================] - 1731s - loss: 0.0049 - acc: 0.9986 - val_loss: 0.0871 - val_acc: 0.9926\n",
      "Epoch 2/5\n",
      "60000/60000 [==============================] - 1738s - loss: 7.1278e-04 - acc: 0.9999 - val_loss: 0.0986 - val_acc: 0.9931\n",
      "Epoch 3/5\n",
      "60000/60000 [==============================] - 1737s - loss: 2.6735e-04 - acc: 1.0000 - val_loss: 0.0986 - val_acc: 0.9931\n",
      "Epoch 4/5\n",
      "60000/60000 [==============================] - 1741s - loss: 2.6875e-04 - acc: 1.0000 - val_loss: 0.0986 - val_acc: 0.9931\n",
      "Epoch 5/5\n",
      "60000/60000 [==============================] - 1739s - loss: 2.6875e-04 - acc: 1.0000 - val_loss: 0.0987 - val_acc: 0.9931\n"
     ]
    }
   ],
   "source": [
    "history = model.fit_generator(\n",
    "    train_batch,\n",
    "    steps_per_epoch=nb_train_samples ,\n",
    "    epochs=epochs,\n",
    "    validation_data=test_batch,\n",
    "    validation_steps=nb_validation_samples \n",
    ")\n",
    "\n",
    "#model.save_weights('first_try.h5')"
   ]
  },
  {
   "cell_type": "code",
   "execution_count": 147,
   "metadata": {},
   "outputs": [
    {
     "data": {
      "text/plain": [
       "{'acc': [0.98578237949327352,\n",
       "  0.99794657819610233,\n",
       "  0.99846481902253625,\n",
       "  0.99859688453351325,\n",
       "  0.99820921608546465],\n",
       " 'loss': [0.12692443801454478,\n",
       "  0.0077038021801933698,\n",
       "  0.0076935036154400244,\n",
       "  0.010538318520232532,\n",
       "  0.021030070118126788],\n",
       " 'val_acc': [0.98879642496210207,\n",
       "  0.9888734353268428,\n",
       "  0.98972689341256792,\n",
       "  0.99028865588681148,\n",
       "  0.99125995701100011],\n",
       " 'val_loss': [0.057518458461166863,\n",
       "  0.076320775977174793,\n",
       "  0.093538571924232955,\n",
       "  0.10965876998984594,\n",
       "  0.13452685842210066]}"
      ]
     },
     "execution_count": 147,
     "metadata": {},
     "output_type": "execute_result"
    }
   ],
   "source": [
    "history.history"
   ]
  },
  {
   "cell_type": "code",
   "execution_count": 148,
   "metadata": {},
   "outputs": [
    {
     "data": {
      "image/png": "[encoded data removed]",
      "text/plain": [
       "<matplotlib.figure.Figure at 0x7ff2a047f198>"
      ]
     },
     "metadata": {},
     "output_type": "display_data"
    }
   ],
   "source": [
    "# model.save('mnist_trained_model_rmsprop.h5')\n",
    "plt.plot(history.history['acc'])\n",
    "# plt.plot(history.history['loss'])\n",
    "plt.plot(history.history['val_acc'])\n",
    "plt.legend(['acc','val_acc'])\n",
    "plt.show()"
   ]
  },
  {
   "cell_type": "markdown",
   "metadata": {},
   "source": [
    "!ls -lh"
   ]
  },
  {
   "cell_type": "markdown",
   "metadata": {},
   "source": [
    "adam optimizer = 97.62% accuracy"
   ]
  },
  {
   "cell_type": "code",
   "execution_count": null,
   "metadata": {},
   "outputs": [],
   "source": []
  }
 ],
 "metadata": {
  "kernelspec": {
   "display_name": "Python 3",
   "language": "python",
   "name": "python3"
  },
  "language_info": {
   "codemirror_mode": {
    "name": "ipython",
    "version": 3
   },
   "file_extension": ".py",
   "mimetype": "text/x-python",
   "name": "python",
   "nbconvert_exporter": "python",
   "pygments_lexer": "ipython3",
   "version": "3.5.2"
  }
 },
 "nbformat": 4,
 "nbformat_minor": 2
}
