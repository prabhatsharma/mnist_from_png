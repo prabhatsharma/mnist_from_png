{
 "cells": [
  {
   "cell_type": "markdown",
   "metadata": {},
   "source": [
    "# mnist using png images from scratch\n",
    "mnist data set contains 0-9 handwritten iages of 28x28 pixels\n",
    "Goal of the exercise to do handwriing recognition of these images."
   ]
  },
  {
   "cell_type": "code",
   "execution_count": 149,
   "metadata": {},
   "outputs": [],
   "source": [
    "from keras.models import Sequential, load_model\n",
    "from keras.layers import Dense, Conv2D, Activation, MaxPooling2D, Flatten, Dropout\n",
    "from keras.preprocessing.image import ImageDataGenerator\n",
    "from keras import backend as K\n",
    "import matplotlib.pyplot as plt\n",
    "import numpy as np\n",
    "from PIL import Image"
   ]
  },
  {
   "cell_type": "code",
   "execution_count": 74,
   "metadata": {},
   "outputs": [],
   "source": [
    "training_path = './mnist_png/training'\n",
    "testing_path = './mnist_png/testing'\n",
    "img_width, img_height = 28, 28\n",
    "nb_train_samples = 60000\n",
    "nb_validation_samples = 10000\n",
    "epochs = 5\n",
    "batch_size = 128 # change this to 16 to speed up processing by 7 times"
   ]
  },
  {
   "cell_type": "code",
   "execution_count": 75,
   "metadata": {},
   "outputs": [],
   "source": [
    "input_shape = (img_width, img_height, 1) # 1=grayscale, 3=color image = RGB."
   ]
  },
  {
   "cell_type": "code",
   "execution_count": 76,
   "metadata": {},
   "outputs": [],
   "source": [
    "model = Sequential()\n",
    "model.add(Conv2D(32, (3, 3), activation='relu', input_shape=input_shape))\n",
    "model.add(MaxPooling2D((2, 2)))\n",
    "model.add(Conv2D(64, (3, 3), activation='relu'))\n",
    "model.add(MaxPooling2D((2, 2)))\n",
    "model.add(Conv2D(64, (3, 3), activation='relu'))\n",
    "\n",
    "model.add(Flatten())\n",
    "model.add(Dense(64, activation='relu'))\n",
    "model.add(Dense(10, activation='softmax'))"
   ]
  },
  {
   "cell_type": "code",
   "execution_count": 77,
   "metadata": {},
   "outputs": [
    {
     "name": "stdout",
     "output_type": "stream",
     "text": [
      "_________________________________________________________________\n",
      "Layer (type)                 Output Shape              Param #   \n",
      "=================================================================\n",
      "conv2d_7 (Conv2D)            (None, 26, 26, 32)        320       \n",
      "_________________________________________________________________\n",
      "max_pooling2d_5 (MaxPooling2 (None, 13, 13, 32)        0         \n",
      "_________________________________________________________________\n",
      "conv2d_8 (Conv2D)            (None, 11, 11, 64)        18496     \n",
      "_________________________________________________________________\n",
      "max_pooling2d_6 (MaxPooling2 (None, 5, 5, 64)          0         \n",
      "_________________________________________________________________\n",
      "conv2d_9 (Conv2D)            (None, 3, 3, 64)          36928     \n",
      "_________________________________________________________________\n",
      "flatten_3 (Flatten)          (None, 576)               0         \n",
      "_________________________________________________________________\n",
      "dense_5 (Dense)              (None, 64)                36928     \n",
      "_________________________________________________________________\n",
      "dense_6 (Dense)              (None, 10)                650       \n",
      "=================================================================\n",
      "Total params: 93,322\n",
      "Trainable params: 93,322\n",
      "Non-trainable params: 0\n",
      "_________________________________________________________________\n"
     ]
    }
   ],
   "source": [
    "model.summary()"
   ]
  },
  {
   "cell_type": "code",
   "execution_count": 78,
   "metadata": {},
   "outputs": [],
   "source": [
    "model.compile(loss='categorical_crossentropy',\n",
    "              optimizer='rmsprop',\n",
    "              metrics=['accuracy'])"
   ]
  },
  {
   "cell_type": "code",
   "execution_count": 79,
   "metadata": {},
   "outputs": [
    {
     "name": "stdout",
     "output_type": "stream",
     "text": [
      "Found 60000 images belonging to 10 classes.\n",
      "Found 10000 images belonging to 10 classes.\n"
     ]
    }
   ],
   "source": [
    "data_gen = ImageDataGenerator(rescale=1. / 255)\n",
    "# data_gen = ImageDataGenerator()\n",
    "train_batch = data_gen.flow_from_directory(training_path, target_size=(28,28),\n",
    "                                          batch_size=batch_size, color_mode='grayscale',)\n",
    "test_batch = data_gen.flow_from_directory(testing_path, target_size=(28,28),\n",
    "                                         batch_size=batch_size, color_mode='grayscale',)"
   ]
  },
  {
   "cell_type": "code",
   "execution_count": 150,
   "metadata": {},
   "outputs": [
    {
     "data": {
      "image/png": "[encoded data removed]",
      "text/plain": [
       "<matplotlib.figure.Figure at 0x7fdfc44cecc0>"
      ]
     },
     "metadata": {},
     "output_type": "display_data"
    }
   ],
   "source": [
    "def show_image(image_path):\n",
    "    pil_im = Image.open(image_path)\n",
    "    im = pil_im.resize((28,28))\n",
    "    im1 = np.asarray(im)\n",
    "    plt.imshow(im1)\n",
    "    plt.show()\n",
    "\n",
    "image_path = testing_path + '/1/' + '1008.png'\n",
    "show_image(image_path)"
   ]
  },
  {
   "cell_type": "code",
   "execution_count": 81,
   "metadata": {},
   "outputs": [
    {
     "name": "stdout",
     "output_type": "stream",
     "text": [
      "Epoch 1/5\n",
      "60000/60000 [==============================] - 1775s - loss: 0.0050 - acc: 0.9986 - val_loss: 0.0909 - val_acc: 0.9932\n",
      "Epoch 2/5\n",
      "60000/60000 [==============================] - 1762s - loss: 5.9501e-04 - acc: 0.9999 - val_loss: 0.0761 - val_acc: 0.9941\n",
      "Epoch 3/5\n",
      "60000/60000 [==============================] - 1759s - loss: 2.6875e-04 - acc: 1.0000 - val_loss: 0.0762 - val_acc: 0.9941\n",
      "Epoch 4/5\n",
      "60000/60000 [==============================] - 1754s - loss: 2.6875e-04 - acc: 1.0000 - val_loss: 0.0762 - val_acc: 0.9941\n",
      "Epoch 5/5\n",
      "60000/60000 [==============================] - 1765s - loss: 2.6875e-04 - acc: 1.0000 - val_loss: 0.0762 - val_acc: 0.9941\n"
     ]
    }
   ],
   "source": [
    "history = model.fit_generator(\n",
    "    train_batch,\n",
    "    steps_per_epoch=nb_train_samples ,\n",
    "    epochs=epochs,\n",
    "    validation_data=test_batch,\n",
    "    validation_steps=nb_validation_samples \n",
    ")\n",
    "\n",
    "model.save('mnist_trained_model.h5')"
   ]
  },
  {
   "cell_type": "code",
   "execution_count": 82,
   "metadata": {},
   "outputs": [],
   "source": [
    "model = load_model('mnist_trained_model.h5')"
   ]
  },
  {
   "cell_type": "code",
   "execution_count": 84,
   "metadata": {},
   "outputs": [
    {
     "data": {
      "image/png": "[encoded data removed]",
      "text/plain": [
       "<matplotlib.figure.Figure at 0x7fe0043760b8>"
      ]
     },
     "metadata": {},
     "output_type": "display_data"
    }
   ],
   "source": [
    "plt.plot(history.history['acc'])\n",
    "plt.plot(history.history['val_acc'])\n",
    "plt.legend(['acc','val_acc'])\n",
    "plt.show()"
   ]
  },
  {
   "cell_type": "code",
   "execution_count": 162,
   "metadata": {},
   "outputs": [],
   "source": [
    "def predict(image_path):\n",
    "    pil_im = Image.open(image_path)\n",
    "    im = pil_im.resize((28,28))\n",
    "    a1 = np.asarray(im)\n",
    "    a2 = np.expand_dims(a1, axis=2)\n",
    "    a3 = np.expand_dims(a2, axis=0)\n",
    "    result = model.predict_classes(a3)\n",
    "    return result[0]"
   ]
  },
  {
   "cell_type": "code",
   "execution_count": 163,
   "metadata": {},
   "outputs": [
    {
     "data": {
      "image/png": "[encoded data removed]",
      "text/plain": [
       "<matplotlib.figure.Figure at 0x7fdfc451e780>"
      ]
     },
     "metadata": {},
     "output_type": "display_data"
    },
    {
     "name": "stdout",
     "output_type": "stream",
     "text": [
      "1/1 [==============================] - 0s\n",
      "Prediction is:  2\n"
     ]
    }
   ],
   "source": [
    "# image_path = testing_path + '/3/' + '3120.png'\n",
    "image_path = testing_path + '/2/' + '2133.png'\n",
    "show_image(image_path)\n",
    "\n",
    "r = predict(image_path)\n",
    "print('Prediction is: ', r)\n"
   ]
  },
  {
   "cell_type": "code",
   "execution_count": null,
   "metadata": {},
   "outputs": [],
   "source": []
  }
 ],
 "metadata": {
  "kernelspec": {
   "display_name": "Python 3",
   "language": "python",
   "name": "python3"
  },
  "language_info": {
   "codemirror_mode": {
    "name": "ipython",
    "version": 3
   },
   "file_extension": ".py",
   "mimetype": "text/x-python",
   "name": "python",
   "nbconvert_exporter": "python",
   "pygments_lexer": "ipython3",
   "version": "3.5.2"
  }
 },
 "nbformat": 4,
 "nbformat_minor": 2
}
